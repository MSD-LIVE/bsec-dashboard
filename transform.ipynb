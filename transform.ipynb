{
 "cells": [
  {
   "cell_type": "markdown",
   "id": "50ca3039-ca38-4fec-8a66-dcd055f668c2",
   "metadata": {},
   "source": [
    "# Transform BSEC Weather Station Data into Parquet Format"
   ]
  },
  {
   "cell_type": "code",
   "execution_count": null,
   "id": "f86ec3fd-168a-4c95-a43b-a03e0a9920b2",
   "metadata": {},
   "outputs": [],
   "source": []
  },
  {
   "cell_type": "code",
   "execution_count": null,
   "id": "4ac31bb6-19c3-464b-9c24-278912b66c5e",
   "metadata": {},
   "outputs": [],
   "source": [
    "# need to have the following libraries installed into this notebook's kernel"
   ]
  },
  {
   "cell_type": "code",
   "execution_count": null,
   "id": "d3cf0246-217e-4615-97cc-3aa12b02e6e9",
   "metadata": {},
   "outputs": [],
   "source": [
    "import geopandas as gpd\n",
    "import numpy as np\n",
    "import pandas as pd\n",
    "from glob import glob\n",
    "import pyarrow as pa\n",
    "import rioxarray as rio\n",
    "from shapely import Point\n",
    "import xarray as xr"
   ]
  },
  {
   "cell_type": "code",
   "execution_count": null,
   "id": "c053a9c5-e5f3-4f7a-892e-12bb12ba537c",
   "metadata": {},
   "outputs": [],
   "source": []
  },
  {
   "cell_type": "code",
   "execution_count": null,
   "id": "bca15fe2-e595-46fc-aea5-a27a45d85e08",
   "metadata": {},
   "outputs": [],
   "source": [
    "# download the raw data from https://data.msdlive.org/records/6yawb-zyx60\n",
    "# and set the path here\n",
    "root_path_to_raw_data = '.'"
   ]
  },
  {
   "cell_type": "code",
   "execution_count": null,
   "id": "362681c5-3ec6-4732-8619-af5ec41ffd4c",
   "metadata": {},
   "outputs": [],
   "source": []
  },
  {
   "cell_type": "code",
   "execution_count": null,
   "id": "bb7ca33c-3a11-4d1f-8f52-350fd286ce9d",
   "metadata": {},
   "outputs": [],
   "source": [
    "# rename columns of interest to snake case\n",
    "rename_map = {\n",
    "    'Station ID': 'station_id',\n",
    "    'Site Name': 'site_name',\n",
    "    'Address': 'address',\n",
    "    'Site Type': 'site_type',\n",
    "    'Station Type': 'station_type',\n",
    "    'Longitude': 'longitude',\n",
    "    'Latitude': 'latitude',\n",
    "    'Start Date': 'start_date',\n",
    "}"
   ]
  },
  {
   "cell_type": "code",
   "execution_count": null,
   "id": "3cafe9df-9ce8-4d50-8494-80ed3f826e23",
   "metadata": {},
   "outputs": [],
   "source": []
  },
  {
   "cell_type": "code",
   "execution_count": null,
   "id": "5fcdfb10-4f4f-4255-94e2-f60dac1e6187",
   "metadata": {},
   "outputs": [],
   "source": [
    "# collect all the weather files\n",
    "weather_files = sorted(glob(f'{root_path_to_raw_data}/data/5min/**/*.csv'))"
   ]
  },
  {
   "cell_type": "code",
   "execution_count": null,
   "id": "6e9dcca0-b7e2-4ea4-86e1-cf4997eb53b9",
   "metadata": {},
   "outputs": [],
   "source": []
  },
  {
   "cell_type": "code",
   "execution_count": null,
   "id": "6b9c16a4-a8c1-4b9d-bcb8-70a429b3c935",
   "metadata": {},
   "outputs": [],
   "source": [
    "# aggregate all the weather data by station into a gigantic dataframe\n",
    "agg = []\n",
    "for f in weather_files:\n",
    "    ds = pd.read_csv(f)\n",
    "    ds['stationID'] = '_'.join(f.split('-')[1].split('_')[:2])\n",
    "    agg.append(ds)\n",
    "agg = pd.concat(agg, ignore_index=True)\n",
    "agg = agg.drop(columns=['tz', 'obsTimeLocal', 'epoch']).set_index([\n",
    "    'stationID', 'obsTimeUtc', 'lat', 'lon'\n",
    "]).dropna(\n",
    "    axis=0,\n",
    "    how='all',\n",
    ").reset_index()\n",
    "agg['obsTimeUtc'] = pd.to_datetime(agg.obsTimeUtc, format='mixed', utc=True)"
   ]
  },
  {
   "cell_type": "code",
   "execution_count": null,
   "id": "eb7a03f6-548d-46d8-8d21-8149399a153c",
   "metadata": {},
   "outputs": [],
   "source": []
  },
  {
   "cell_type": "code",
   "execution_count": null,
   "id": "7fe56fb4-9754-4f27-96db-ef14d8042952",
   "metadata": {},
   "outputs": [],
   "source": [
    "# load the station locations\n",
    "stations = pd.read_csv(f'{root_path_to_raw_data}/documents/Stations-Locations.csv')\n",
    "stations = gpd.GeoDataFrame(\n",
    "    stations, geometry=gpd.points_from_xy(stations.Longitude, stations.Latitude)\n",
    ")\n",
    "stations = stations.rename(columns=rename_map)[[*rename_map.values(), 'geometry']]\n",
    "stations['station_id'] = stations['station_id'] + '_' + stations['station_type']\n",
    "\n",
    "# use this to move stations a little that are stacked on top of each other\n",
    "def jitter(row, sigma=0.0001):\n",
    "    if stations.geometry.value_counts().loc[row.geometry] > 1:\n",
    "        row['geometry'] = Point(row.geometry.x + np.random.normal(0, sigma), row.geometry.y + np.random.normal(0, sigma))\n",
    "    return row\n",
    "\n",
    "# subselect stations that actually have data\n",
    "stations = stations[(~stations.is_empty) & (stations.station_id.isin(agg.stationID.unique()))].apply(jitter, axis=1).set_crs('epsg:4326')\n",
    "\n",
    "# write the stations to geojson\n",
    "stations.to_file('./static/data/station_locations.json', driver=\"GeoJSON\")"
   ]
  },
  {
   "cell_type": "code",
   "execution_count": null,
   "id": "e6528a77-86f7-4966-970f-41f78b069c9e",
   "metadata": {},
   "outputs": [],
   "source": []
  },
  {
   "cell_type": "code",
   "execution_count": null,
   "id": "4c944a6e-61e1-46d9-beef-b86af63477c0",
   "metadata": {},
   "outputs": [],
   "source": [
    "# write the weather data to parquet\n",
    "for g in agg.groupby('stationID'):\n",
    "    fname = f\"./static/data/{g[0]}_5min_data.parquet\"\n",
    "    g[1].to_parquet(fname, index=False)\n"
   ]
  },
  {
   "cell_type": "code",
   "execution_count": null,
   "id": "9f6434fb-a6f5-4fd0-928c-c3614bc7d658",
   "metadata": {},
   "outputs": [],
   "source": []
  },
  {
   "cell_type": "code",
   "execution_count": null,
   "id": "e6a4e8d5-da1a-41d3-bf76-fe53e4fdff01",
   "metadata": {},
   "outputs": [],
   "source": []
  }
 ],
 "metadata": {
  "kernelspec": {
   "display_name": "datacenters",
   "language": "python",
   "name": "datacenters"
  },
  "language_info": {
   "codemirror_mode": {
    "name": "ipython",
    "version": 3
   },
   "file_extension": ".py",
   "mimetype": "text/x-python",
   "name": "python",
   "nbconvert_exporter": "python",
   "pygments_lexer": "ipython3",
   "version": "3.13.2"
  }
 },
 "nbformat": 4,
 "nbformat_minor": 5
}
